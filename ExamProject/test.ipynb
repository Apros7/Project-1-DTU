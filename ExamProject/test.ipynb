{
 "cells": [
  {
   "cell_type": "code",
   "execution_count": 266,
   "metadata": {},
   "outputs": [],
   "source": [
    "import numpy as np\n",
    "np.set_printoptions(suppress=True)\n",
    "from load_measurements import load_measurements\n",
    "from aggregate_measurements import aggregate_measurements\n",
    "from print_statistics import print_statistics\n",
    "# print(f\"{0.809:.2%}\")"
   ]
  },
  {
   "cell_type": "code",
   "execution_count": 2,
   "metadata": {},
   "outputs": [],
   "source": [
    "def load_measurements2(filename, fmode):\n",
    "    # abspath = os.path.dirname(os.path.abspath(__file__))\n",
    "    # path = abspath + \"\\\\\" + filename\n",
    "    data = [row.split(\",\") for row in open(filename, \"r\")]\n",
    "    data = np.array(data,dtype=float)\n",
    "\n",
    "    if fmode == \"drop\":\n",
    "        # remove all rows that contain a corrupted measurement:\n",
    "        data = data[np.all(data != -1, axis=1)]\n",
    "\n",
    "    if fmode == \"forward fill\" and np.all(data[0] != -1): num = -1\n",
    "    elif fmode == \"backward fill\" and np.all(data[-1] != -1): num = 1\n",
    "    else:\n",
    "        data = data[np.all(data != -1, axis=1)]\n",
    "        print(\"errmsg\")\n",
    "\n",
    "    for x, y in np.argwhere(data == -1):\n",
    "        data[x][y] = data[x + num][y]\n",
    "\n",
    "    tvec = data[:,:6]\n",
    "    data = data[:,6:]\n",
    "    return tvec, data"
   ]
  },
  {
   "cell_type": "code",
   "execution_count": 264,
   "metadata": {},
   "outputs": [],
   "source": [
    "def print_statistics2(_, data):\n",
    "    zones = np.arange(1,5)[:, None]\n",
    "    stats = np.array([\n",
    "        np.min(data, axis=0),\n",
    "        np.quantile(data, 0.25, axis=0),\n",
    "        np.quantile(data, 0.50, axis=0),\n",
    "        np.quantile(data, 0.75, axis=0),\n",
    "        np.max(data, axis=0)\n",
    "    ]).T\n",
    "    stats2 = np.array([\n",
    "        \"All\",\n",
    "        np.min(data),\n",
    "        np.quantile(data, 0.25),\n",
    "        np.quantile(data, 0.50),\n",
    "        np.quantile(data, 0.75),\n",
    "        np.max(data)\n",
    "    ])\n",
    "\n",
    "    statistics = np.hstack((zones, stats))\n",
    "    statistics = np.vstack((statistics, stats2))\n",
    "    \n",
    "    splitline = \"-\"*65\n",
    "    headers = [\"Zone\", \"Minimum\", \"1. quart\", \"2. quart\", \"3. quart\", \"Maximum\"]\n",
    "\n",
    "    print(splitline)\n",
    "    print(*[f\"{header:^10}\" for header in headers])\n",
    "    print(splitline)\n",
    "    [print(*[f\"{header:^10}\" for header in row]) for row in statistics]\n",
    "    print(splitline)"
   ]
  },
  {
   "cell_type": "code",
   "execution_count": 265,
   "metadata": {},
   "outputs": [
    {
     "name": "stdout",
     "output_type": "stream",
     "text": [
      "-----------------------------------------------------------------\n",
      "   Zone     Minimum    1. quart   2. quart   3. quart   Maximum  \n",
      "-----------------------------------------------------------------\n",
      "   1.0        2.0        2.75       4.0        5.5        7.0    \n",
      "   2.0        3.0        3.0        4.5        6.0        6.0    \n",
      "   3.0        1.0        1.0        2.5        5.25       9.0    \n",
      "   4.0        0.0        3.75       5.5        6.5        8.0    \n",
      "   All        0.0        2.75       4.5        6.0        9.0    \n",
      "-----------------------------------------------------------------\n"
     ]
    }
   ],
   "source": [
    "print_statistics(*load_measurements(\"testdata2.csv\", \"forward fill\"))"
   ]
  },
  {
   "cell_type": "code",
   "execution_count": 268,
   "metadata": {},
   "outputs": [
    {
     "name": "stdout",
     "output_type": "stream",
     "text": [
      "errmsg\n"
     ]
    }
   ],
   "source": [
    "tvec, data = load_measurements(\"2008.csv\", \"drop\")"
   ]
  },
  {
   "cell_type": "code",
   "execution_count": 357,
   "metadata": {},
   "outputs": [
    {
     "name": "stdout",
     "output_type": "stream",
     "text": [
      "[0, 1.0, 0, 0, 0, 0]\n",
      "1     61761.0      62911.0      312175.0     1086156.4   \n",
      "[0, 2.0, 0, 0, 0, 0]\n",
      "2     40192.0      56646.0      255918.0     822177.5    \n",
      "[0, 3.0, 0, 0, 0, 0]\n",
      "3     63110.0      79277.0      279670.0     926517.2    \n",
      "[0, 4.0, 0, 0, 0, 0]\n",
      "4     47080.0      70871.0      295678.0     803505.4    \n",
      "[0, 5.0, 0, 0, 0, 0]\n",
      "5     53084.0      58907.0      290620.0     762024.7    \n",
      "[0, 6.0, 0, 0, 0, 0]\n",
      "6     68728.0      63449.0      290103.0     715737.4    \n",
      "[0, 7.0, 0, 0, 0, 0]\n",
      "7     47313.0      44416.0      227228.0     591297.6    \n",
      "[0, 8.0, 0, 0, 0, 0]\n",
      "8     3873.0       22264.0      79665.0      205648.2    \n",
      "[0, 9.0, 0, 0, 0, 0]\n",
      "9     52376.0      44590.0      284282.0     711118.3    \n",
      "[0, 10.0, 0, 0, 0, 0]\n",
      "10    44093.0      63228.0      275887.0     844942.0    \n",
      "[0, 11.0, 0, 0, 0, 0]\n",
      "11    58067.0      55887.0      280615.0     998498.8    \n",
      "[0, 12.0, 0, 0, 0, 0]\n",
      "12    45107.0      39459.0      307346.0     947242.0    \n"
     ]
    }
   ],
   "source": [
    "def aggregate_measurements(tvec, data, period):\n",
    "    tvec_a = None\n",
    "    col = 0\n",
    "    if period == \"hour\":\n",
    "        col = 3\n",
    "    elif period == \"day\":\n",
    "        col = 2\n",
    "    elif period == \"month\":\n",
    "        col = 1\n",
    "    elif period == \"hour of the day\":\n",
    "        col = 3\n",
    "\n",
    "    uniq = np.unique(tvec[:,col])\n",
    "    mask = None\n",
    "    for n in uniq:\n",
    "        mask = tvec[:,col] == n\n",
    "        if period != \"hour of the day\":\n",
    "            list1 = [0]*6\n",
    "            list1[col] = n\n",
    "            print(list1)\n",
    "            print(f\"{int(n):<5}\", *[f\"{round(num,2):<12}\" for num in np.sum(data[mask], axis=0)])\n",
    "        else:\n",
    "            2\n",
    "            # num = np.round(np.mean(data[mask], axis=0), 2)\n",
    "            # print(*[f\"{n:<6}\" for n in num])\n",
    "            # print(f\"{int(n):<5}\", *[f\"{round(num,2):<12}\" for num in np.sum(data[mask], axis=0)])\n",
    "    \n",
    "    # return tvec_a, data\n",
    "    \n",
    "\n",
    "# print(tvec[:,:(3+1)])\n",
    "aggregate_measurements(tvec, data, \"month\")"
   ]
  }
 ],
 "metadata": {
  "kernelspec": {
   "display_name": "Python 3.10.6 64-bit",
   "language": "python",
   "name": "python3"
  },
  "language_info": {
   "codemirror_mode": {
    "name": "ipython",
    "version": 3
   },
   "file_extension": ".py",
   "mimetype": "text/x-python",
   "name": "python",
   "nbconvert_exporter": "python",
   "pygments_lexer": "ipython3",
   "version": "3.10.6"
  },
  "orig_nbformat": 4,
  "vscode": {
   "interpreter": {
    "hash": "fcc73d9642ec3b9d82e7ed49b5b9648d1b6a3d10a9e25e6f863cf5cf46922fc4"
   }
  }
 },
 "nbformat": 4,
 "nbformat_minor": 2
}
