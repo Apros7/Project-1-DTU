{
 "cells": [
  {
   "cell_type": "code",
   "execution_count": 79,
   "metadata": {},
   "outputs": [],
   "source": [
    "import numpy as np\n",
    "import os\n",
    "np.set_printoptions(suppress=True)\n"
   ]
  },
  {
   "cell_type": "code",
   "execution_count": 99,
   "metadata": {},
   "outputs": [],
   "source": [
    "def load_measurements(filename, fmode):\n",
    "    # abspath = os.path.dirname(os.path.abspath(__file__))\n",
    "    # path = abspath + \"\\\\\" + filename\n",
    "    data = [row.split(\",\") for row in open(filename, \"r\")]\n",
    "    data = np.array(data,dtype=float)\n",
    "\n",
    "    if fmode == \"drop\":\n",
    "        # remove all rows that contain a corrupted measurement:\n",
    "        data = data[np.all(data != -1, axis=1)]\n",
    "\n",
    "    if fmode == \"forward fill\" and np.all(data[0] != -1): num = -1\n",
    "    elif fmode == \"backward fill\" and np.all(data[-1] != -1): num = 1\n",
    "    else:\n",
    "        data = data[np.all(data != -1, axis=1)]\n",
    "        print(\"errmsg\")\n",
    "\n",
    "    for x, y in np.argwhere(data == -1):\n",
    "        data[x][y] = data[x + num][y]\n",
    "\n",
    "    tvec = data[:,:6]\n",
    "    data = data[:,6:]\n",
    "    return tvec, data"
   ]
  },
  {
   "cell_type": "code",
   "execution_count": 103,
   "metadata": {},
   "outputs": [
    {
     "name": "stdout",
     "output_type": "stream",
     "text": [
      "errmsg\n"
     ]
    },
    {
     "data": {
      "text/plain": [
       "(array([[2006.,    2.,   11.,    6.,    1.,    0.],\n",
       "        [2006.,    7.,   14.,    9.,    3.,    0.]]),\n",
       " array([[5., 6., 1., 8.],\n",
       "        [2., 3., 4., 5.]]))"
      ]
     },
     "execution_count": 103,
     "metadata": {},
     "output_type": "execute_result"
    }
   ],
   "source": [
    "tvec, data = load_measurements(\"testdata2.csv\", \"backward fill\")\n",
    "tvec, data"
   ]
  }
 ],
 "metadata": {
  "kernelspec": {
   "display_name": "Python 3.10.6 64-bit",
   "language": "python",
   "name": "python3"
  },
  "language_info": {
   "codemirror_mode": {
    "name": "ipython",
    "version": 3
   },
   "file_extension": ".py",
   "mimetype": "text/x-python",
   "name": "python",
   "nbconvert_exporter": "python",
   "pygments_lexer": "ipython3",
   "version": "3.10.6"
  },
  "orig_nbformat": 4,
  "vscode": {
   "interpreter": {
    "hash": "fcc73d9642ec3b9d82e7ed49b5b9648d1b6a3d10a9e25e6f863cf5cf46922fc4"
   }
  }
 },
 "nbformat": 4,
 "nbformat_minor": 2
}
